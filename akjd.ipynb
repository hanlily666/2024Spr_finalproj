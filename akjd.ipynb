{
 "cells": [
  {
   "cell_type": "code",
   "execution_count": 2,
   "metadata": {
    "collapsed": true,
    "ExecuteTime": {
     "start_time": "2024-04-21T22:11:32.225832Z",
     "end_time": "2024-04-21T22:11:32.230949Z"
    }
   },
   "outputs": [],
   "source": [
    "stack_dict = {(0, 1): {'horiz': False, 'cells': ((0,0), (1,0))}, (0, 0): {'horiz': True,  'cells': ((0,1), (0,2))}}"
   ]
  },
  {
   "cell_type": "code",
   "execution_count": 3,
   "outputs": [
    {
     "data": {
      "text/plain": "((0, 0), {'horiz': True, 'cells': ((0, 1), (0, 2))})"
     },
     "execution_count": 3,
     "metadata": {},
     "output_type": "execute_result"
    }
   ],
   "source": [
    "stack_dict.popitem()"
   ],
   "metadata": {
    "collapsed": false,
    "ExecuteTime": {
     "start_time": "2024-04-21T22:11:33.674679Z",
     "end_time": "2024-04-21T22:11:33.684465Z"
    }
   }
  },
  {
   "cell_type": "code",
   "execution_count": 3,
   "outputs": [
    {
     "data": {
      "text/plain": "((0, 0), (1, 0))"
     },
     "execution_count": 3,
     "metadata": {},
     "output_type": "execute_result"
    }
   ],
   "source": [
    "tuple(sorted(((0,0), (1,0))))"
   ],
   "metadata": {
    "collapsed": false,
    "ExecuteTime": {
     "start_time": "2024-04-24T13:08:15.207455Z",
     "end_time": "2024-04-24T13:08:15.211282Z"
    }
   }
  },
  {
   "cell_type": "code",
   "execution_count": 5,
   "outputs": [
    {
     "name": "stdout",
     "output_type": "stream",
     "text": [
      "The cell corresponding to the edges is at (1, 1)\n"
     ]
    }
   ],
   "source": [
    "def get_cell_from_edges(edge1, edge2):\n",
    "    # Finding the common node that both edges share\n",
    "    common_node = set(edge1).intersection(edge2)\n",
    "\n",
    "    # If there is a common node, that's the top-left corner of the cell\n",
    "    if common_node:\n",
    "        return common_node.pop()\n",
    "    else:\n",
    "        return None\n",
    "\n",
    "# Example usage\n",
    "edge1 = ((1, 0), (1, 1))\n",
    "edge2 = ((1, 1), (2, 1))\n",
    "cell = get_cell_from_edges(edge1, edge2)\n",
    "if cell:\n",
    "    print(f\"The cell corresponding to the edges is at {cell}\")\n",
    "else:\n",
    "    print(\"The edges do not share a common node and thus do not define a cell.\")\n",
    "\n"
   ],
   "metadata": {
    "collapsed": false,
    "ExecuteTime": {
     "start_time": "2024-04-26T16:34:08.712442Z",
     "end_time": "2024-04-26T16:34:08.717209Z"
    }
   }
  },
  {
   "cell_type": "code",
   "execution_count": 6,
   "outputs": [],
   "source": [
    "node1, node2 = ((1,0), (2,0))"
   ],
   "metadata": {
    "collapsed": false,
    "ExecuteTime": {
     "start_time": "2024-04-26T16:35:24.518493Z",
     "end_time": "2024-04-26T16:35:24.523813Z"
    }
   }
  },
  {
   "cell_type": "code",
   "execution_count": 7,
   "outputs": [
    {
     "data": {
      "text/plain": "(1, 0)"
     },
     "execution_count": 7,
     "metadata": {},
     "output_type": "execute_result"
    }
   ],
   "source": [
    "node1"
   ],
   "metadata": {
    "collapsed": false,
    "ExecuteTime": {
     "start_time": "2024-04-26T16:35:26.131100Z",
     "end_time": "2024-04-26T16:35:26.136606Z"
    }
   }
  },
  {
   "cell_type": "code",
   "execution_count": 9,
   "outputs": [],
   "source": [
    "def check_cell_status(the_edge1, the_edge2):\n",
    "\n",
    "    node1, node2 = the_edge1\n",
    "    node3, node4 = the_edge2\n",
    "    row = min(node1[0], node2[0], node3[0], node4[0])\n",
    "    col = min(node1[1], node2[1], node3[1], node4[1])\n",
    "    return row, col"
   ],
   "metadata": {
    "collapsed": false,
    "ExecuteTime": {
     "start_time": "2024-04-26T16:38:14.444340Z",
     "end_time": "2024-04-26T16:38:14.451465Z"
    }
   }
  },
  {
   "cell_type": "code",
   "execution_count": 10,
   "outputs": [
    {
     "data": {
      "text/plain": "(1, 0)"
     },
     "execution_count": 10,
     "metadata": {},
     "output_type": "execute_result"
    }
   ],
   "source": [
    "check_cell_status(((1,0), (2,0)), ((2,1), (2,0)))"
   ],
   "metadata": {
    "collapsed": false,
    "ExecuteTime": {
     "start_time": "2024-04-26T16:38:37.528891Z",
     "end_time": "2024-04-26T16:38:37.531932Z"
    }
   }
  }
 ],
 "metadata": {
  "kernelspec": {
   "display_name": "Python 3",
   "language": "python",
   "name": "python3"
  },
  "language_info": {
   "codemirror_mode": {
    "name": "ipython",
    "version": 2
   },
   "file_extension": ".py",
   "mimetype": "text/x-python",
   "name": "python",
   "nbconvert_exporter": "python",
   "pygments_lexer": "ipython2",
   "version": "2.7.6"
  }
 },
 "nbformat": 4,
 "nbformat_minor": 0
}
